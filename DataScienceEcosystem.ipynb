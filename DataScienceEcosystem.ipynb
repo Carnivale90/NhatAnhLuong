{
 "cells": [
  {
   "cell_type": "markdown",
   "id": "97e94e26-e946-4d6d-a595-82eadaa7de52",
   "metadata": {
    "tags": []
   },
   "source": [
    "# Data Science Tools and Ecosystem"
   ]
  },
  {
   "cell_type": "markdown",
   "id": "4bce254a-9149-41c1-ad36-1550271efbbe",
   "metadata": {},
   "source": [
    "# In this notebook, Data Science Tools and Ecosystem are summarized"
   ]
  },
  {
   "cell_type": "markdown",
   "id": "12ab8d4e-2255-49bb-ba53-65fa8e3f5478",
   "metadata": {
    "tags": []
   },
   "source": [
    "**Objectives:**\n",
    "- Introduce to Python\n",
    "- Introduce to Jupyter Notebook\n",
    "- List machine learning libraries\n"
   ]
  },
  {
   "cell_type": "markdown",
   "id": "77a7e26b-a9c3-471c-b28f-266f68a3a9af",
   "metadata": {},
   "source": [
    "# Some of the popular languages that Data Scientists use are:\n",
    "1. Python\n",
    "2. SQL\n",
    "3. Java"
   ]
  },
  {
   "cell_type": "markdown",
   "id": "87808502-15bd-4d8f-a021-268cf6d55528",
   "metadata": {},
   "source": [
    "# Some of the commonly used libraries used by Data Scientists include:\n",
    "1. Pandas\n",
    "2. NumPy\n",
    "3. SciPy\n",
    "4. Matplotlib"
   ]
  },
  {
   "cell_type": "markdown",
   "id": "fda06055-22d8-4d69-b20b-823499e7ddb0",
   "metadata": {},
   "source": [
    "|Data Science Tools|\n",
    "|-------|\n",
    "|MySQL|\n",
    "|PostgreSQL|\n",
    "|Jupyter|"
   ]
  },
  {
   "cell_type": "markdown",
   "id": "47b7898c-7faa-427a-9a91-be98296b5c8c",
   "metadata": {},
   "source": [
    "### Below are a few examples of evaluating arithmetic expressions in Python"
   ]
  },
  {
   "cell_type": "code",
   "execution_count": 7,
   "id": "092cec73-26bc-447c-b8e0-31d09ba68eff",
   "metadata": {
    "tags": []
   },
   "outputs": [
    {
     "data": {
      "text/plain": [
       "17"
      ]
     },
     "execution_count": 7,
     "metadata": {},
     "output_type": "execute_result"
    }
   ],
   "source": [
    "# This a simple arithmetic expression to mutiply then add integers\n",
    "(3*4)+5"
   ]
  },
  {
   "cell_type": "code",
   "execution_count": 8,
   "id": "9671abac-741a-4abf-8d89-0eb0e5a05995",
   "metadata": {
    "tags": []
   },
   "outputs": [
    {
     "data": {
      "text/plain": [
       "3.3333333333333335"
      ]
     },
     "execution_count": 8,
     "metadata": {},
     "output_type": "execute_result"
    }
   ],
   "source": [
    "# This will convert 200 minutes to hours by diving by 60\n",
    "200/60"
   ]
  },
  {
   "cell_type": "markdown",
   "id": "9588d62d-30f1-4dea-9e88-01e74179d44b",
   "metadata": {},
   "source": [
    "## Author:\n",
    "Luong Nhat Anh"
   ]
  },
  {
   "cell_type": "code",
   "execution_count": null,
   "id": "27a5ffc8-e46a-475f-afda-08ef21b41fe0",
   "metadata": {},
   "outputs": [],
   "source": []
  }
 ],
 "metadata": {
  "kernelspec": {
   "display_name": "Python",
   "language": "python",
   "name": "conda-env-python-py"
  },
  "language_info": {
   "codemirror_mode": {
    "name": "ipython",
    "version": 3
   },
   "file_extension": ".py",
   "mimetype": "text/x-python",
   "name": "python",
   "nbconvert_exporter": "python",
   "pygments_lexer": "ipython3",
   "version": "3.7.12"
  }
 },
 "nbformat": 4,
 "nbformat_minor": 5
}
